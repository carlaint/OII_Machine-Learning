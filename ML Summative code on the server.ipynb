{
 "cells": [
  {
   "cell_type": "markdown",
   "metadata": {},
   "source": [
    "# Machine Learning Summative Assessment\n",
    "\n",
    "This course is assessed through a final project. The overall aim of this project is to examine the students understanding of modern machine learning techniques at the basic theoretical, intuitive as well as practical levels. With regard to practical applications we use Python, as well related libraries such as Numpy, Scikit and TensorFlow.\n",
    "\n",
    "The project is centred around the MNIST data set of handwritten digits. It consists of grayscale images of hand written digits, as well as the true labels/digits of each image. The data is split in train and test sets. Many problems relate to the classification task of predicting the true labels given the images. Instructions with details on the project will be provided during the course. Here we only outline the various stages of the project:"
   ]
  },
  {
   "cell_type": "markdown",
   "metadata": {},
   "source": [
    "# Unsupervised learning. [15 points] \n",
    "\n",
    "Perform a principle component analysis on the MNIST data set. Produce various plots in the dimensionally reduced space using the principle components."
   ]
  },
  {
   "cell_type": "code",
   "execution_count": 1,
   "metadata": {},
   "outputs": [],
   "source": [
    "from sklearn import datasets, pipeline, metrics\n",
    "from sklearn.model_selection import train_test_split\n",
    "from sklearn.preprocessing import StandardScaler\n",
    "from sklearn.decomposition import PCA\n",
    "import matplotlib as mpl\n",
    "import numpy as np\n",
    "import matplotlib.pyplot as plt\n",
    "from sklearn.kernel_approximation import (RBFSampler, Nystroem)\n",
    "%matplotlib inline"
   ]
  },
  {
   "cell_type": "code",
   "execution_count": 2,
   "metadata": {},
   "outputs": [],
   "source": [
    "import warnings\n",
    "warnings.filterwarnings(\"ignore\", category=DeprecationWarning) \n",
    "warnings.filterwarnings(\"ignore\", category=FutureWarning) "
   ]
  },
  {
   "cell_type": "code",
   "execution_count": 3,
   "metadata": {},
   "outputs": [],
   "source": [
    "mnist = datasets.fetch_mldata('MNIST original', data_home = 'datasets/')"
   ]
  },
  {
   "cell_type": "code",
   "execution_count": 14,
   "metadata": {},
   "outputs": [
    {
     "data": {
      "text/plain": [
       "{'DESCR': 'mldata.org dataset: mnist-original',\n",
       " 'COL_NAMES': ['label', 'data'],\n",
       " 'target': array([0., 0., 0., ..., 9., 9., 9.]),\n",
       " 'data': array([[0, 0, 0, ..., 0, 0, 0],\n",
       "        [0, 0, 0, ..., 0, 0, 0],\n",
       "        [0, 0, 0, ..., 0, 0, 0],\n",
       "        ...,\n",
       "        [0, 0, 0, ..., 0, 0, 0],\n",
       "        [0, 0, 0, ..., 0, 0, 0],\n",
       "        [0, 0, 0, ..., 0, 0, 0]], dtype=uint8)}"
      ]
     },
     "execution_count": 14,
     "metadata": {},
     "output_type": "execute_result"
    }
   ],
   "source": [
    "mnist"
   ]
  },
  {
   "cell_type": "code",
   "execution_count": 4,
   "metadata": {},
   "outputs": [],
   "source": [
    "#defining X and y. Easier for an economist to understand\n",
    "X = mnist.data\n",
    "y = mnist.target"
   ]
  },
  {
   "cell_type": "code",
   "execution_count": 6,
   "metadata": {},
   "outputs": [
    {
     "name": "stdout",
     "output_type": "stream",
     "text": [
      "(70000, 784)\n",
      "(70000,)\n"
     ]
    }
   ],
   "source": [
    "print(X.shape)\n",
    "print(y.shape)"
   ]
  },
  {
   "cell_type": "markdown",
   "metadata": {},
   "source": [
    "**Scaling and train/test/split**"
   ]
  },
  {
   "cell_type": "code",
   "execution_count": 7,
   "metadata": {},
   "outputs": [],
   "source": [
    "## for scaling\n",
    "#X = X / 255.0\n",
    "#X_train, X_test, y_train, y_test = train_test_split(X,y, test_size=0.2, random_state=42)"
   ]
  },
  {
   "cell_type": "markdown",
   "metadata": {},
   "source": [
    "**Graphing by the elbow method**"
   ]
  },
  {
   "cell_type": "code",
   "execution_count": 8,
   "metadata": {},
   "outputs": [],
   "source": [
    "# 100% variance explained\n",
    "pca = PCA()"
   ]
  },
  {
   "cell_type": "code",
   "execution_count": 9,
   "metadata": {},
   "outputs": [
    {
     "data": {
      "text/plain": [
       "PCA(copy=True, iterated_power='auto', n_components=None, random_state=None,\n",
       "  svd_solver='auto', tol=0.0, whiten=False)"
      ]
     },
     "execution_count": 9,
     "metadata": {},
     "output_type": "execute_result"
    }
   ],
   "source": [
    "# Let's PCA the full dataset for the graph\n",
    "pca.fit(X)"
   ]
  },
  {
   "cell_type": "code",
   "execution_count": 10,
   "metadata": {},
   "outputs": [],
   "source": [
    "# Summing explained variance\n",
    "tot = sum(pca.explained_variance_)\n",
    "var_exp = [(i/tot)*100 for i in sorted(pca.explained_variance_, reverse=True)] \n",
    "cum_var_exp = np.cumsum(var_exp)"
   ]
  },
  {
   "cell_type": "code",
   "execution_count": 11,
   "metadata": {},
   "outputs": [
    {
     "data": {
      "image/png": "[encoded data removed]",
      "text/plain": [
       "<Figure size 432x288 with 1 Axes>"
      ]
     },
     "metadata": {
      "needs_background": "light"
     },
     "output_type": "display_data"
    }
   ],
   "source": [
    "# plotting\n",
    "%matplotlib inline\n",
    "plt.step(range(1, 785), cum_var_exp, where='mid',label='cumulative explained variance')\n",
    "plt.ylabel('Cumulative Explained variance')\n",
    "plt.xlabel('Principal components')\n",
    "plt.legend(loc='lower right')\n",
    "plt.show()"
   ]
  },
  {
   "cell_type": "markdown",
   "metadata": {},
   "source": [
    "**Using PCA to project back an image based on reduced components**"
   ]
  },
  {
   "cell_type": "code",
   "execution_count": 12,
   "metadata": {},
   "outputs": [],
   "source": [
    "def lowdimension(perc):\n",
    "    pca = PCA(perc)\n",
    "    temp = pca.fit_transform(X) #lower dimension\n",
    "    print(perc, 'variance explained', 'is', pca.n_components_, 'out of 784 components')\n",
    "    new = pca.inverse_transform(temp)\n",
    "    return new"
   ]
  },
  {
   "cell_type": "code",
   "execution_count": 14,
   "metadata": {},
   "outputs": [
    {
     "name": "stdout",
     "output_type": "stream",
     "text": [
      "0.2 variance explained is 3 out of 784 components\n"
     ]
    },
    {
     "data": {
      "image/png": "[encoded data removed]",
      "text/plain": [
       "<Figure size 432x288 with 1 Axes>"
      ]
     },
     "metadata": {
      "needs_background": "light"
     },
     "output_type": "display_data"
    },
    {
     "name": "stdout",
     "output_type": "stream",
     "text": [
      "0.5 variance explained is 11 out of 784 components\n"
     ]
    },
    {
     "data": {
      "image/png": "[encoded data removed]",
      "text/plain": [
       "<Figure size 432x288 with 1 Axes>"
      ]
     },
     "metadata": {
      "needs_background": "light"
     },
     "output_type": "display_data"
    },
    {
     "name": "stdout",
     "output_type": "stream",
     "text": [
      "0.9 variance explained is 87 out of 784 components\n"
     ]
    },
    {
     "data": {
      "image/png": "[encoded data removed]",
      "text/plain": [
       "<Figure size 432x288 with 1 Axes>"
      ]
     },
     "metadata": {
      "needs_background": "light"
     },
     "output_type": "display_data"
    },
    {
     "name": "stdout",
     "output_type": "stream",
     "text": [
      "0.99 variance explained is 331 out of 784 components\n"
     ]
    },
    {
     "data": {
      "image/png": "[encoded data removed]",
      "text/plain": [
       "<Figure size 432x288 with 1 Axes>"
      ]
     },
     "metadata": {
      "needs_background": "light"
     },
     "output_type": "display_data"
    },
    {
     "data": {
      "text/plain": [
       "Text(0.5,1,'Original Image: 784 components')"
      ]
     },
     "execution_count": 14,
     "metadata": {},
     "output_type": "execute_result"
    },
    {
     "data": {
      "image/png": "[encoded data removed]",
      "text/plain": [
       "<Figure size 432x288 with 1 Axes>"
      ]
     },
     "metadata": {
      "needs_background": "light"
     },
     "output_type": "display_data"
    }
   ],
   "source": [
    "#picking a random digit from this 70k data\n",
    "%matplotlib inline\n",
    "\n",
    "dim = [0.2,0.5,0.9,.99]\n",
    "\n",
    "for i in dim:\n",
    "    plt.imshow(lowdimension(i)[50453].reshape(28,28),\n",
    "                  cmap = plt.cm.binary, interpolation='nearest',\n",
    "                  clim=(0, 255))\n",
    "    a = str(i) + \" of explained variance\"\n",
    "    plt.title(a)\n",
    "    plt.show()\n",
    "\n",
    "plt.imshow(X[50453].reshape(28,28),\n",
    "              cmap = plt.cm.binary, interpolation='nearest',\n",
    "              clim=(0, 255))\n",
    "plt.title('Original Image: 784 components')"
   ]
  },
  {
   "cell_type": "code",
   "execution_count": null,
   "metadata": {},
   "outputs": [],
   "source": []
  },
  {
   "cell_type": "markdown",
   "metadata": {},
   "source": [
    "# Support vector machines. [30 points]\n",
    "\n",
    "a) Theory. [15 points] Explain either the mathematics or the intuition behind the kernel trick used in SVMs and how it allows to express a non-linear classifier through a linear classifier in a higher-dimensional space."
   ]
  },
  {
   "cell_type": "raw",
   "metadata": {},
   "source": [
    "Intuition:\n",
    "Figure A: Assume that we want to classify the points into blue and orange.\n",
    "Figure B: Several attempts to draw a linear classifier that separates the blue and orange dots do not seem to work, as there will always be dots that will be misclassified.\n",
    "Figure C: We can separate them using a non-linear classifier; or we can add a new dimension to lift the blue dots up and split it from there."
   ]
  },
  {
   "cell_type": "markdown",
   "metadata": {},
   "source": [
    "<img src= \"dots.png\">"
   ]
  },
  {
   "cell_type": "raw",
   "metadata": {},
   "source": [
    "From Figure C, we draw a separating line and plot its coordinates on an x-y axis and assume a non-linear classifier x*y like below."
   ]
  },
  {
   "cell_type": "markdown",
   "metadata": {},
   "source": [
    "<img src= \"equation.png\">"
   ]
  },
  {
   "cell_type": "raw",
   "metadata": {},
   "source": [
    "Just to confirm that our equation x*y=13.1 is non-linear, we can check the shape using a graphing calculator."
   ]
  },
  {
   "cell_type": "markdown",
   "metadata": {},
   "source": [
    "<img src= \"equation2.png\" width=\"400\" height=\"200\">"
   ]
  },
  {
   "cell_type": "raw",
   "metadata": {},
   "source": [
    "Now, using the same non-linear function, let's define a third dimension z = x*y and transform all the dots in Figure A. Plotting the results (x,y,z) on 3D plane will show a clear separation between the blue and the orange dots, at around z=13.1 which is also the solution to our non-linear separator earlier."
   ]
  },
  {
   "cell_type": "markdown",
   "metadata": {},
   "source": [
    "<img src= \"3d.png\" width=\"400\" height=\"200\">"
   ]
  },
  {
   "cell_type": "code",
   "execution_count": 1,
   "metadata": {},
   "outputs": [],
   "source": [
    "#Code used to generate above\n",
    "# from matplotlib import pyplot\n",
    "# from mpl_toolkits.mplot3d import Axes3D\n",
    "# import numpy as np\n",
    "# from pylab import *\n",
    "\n",
    "# %pylab\n",
    "\n",
    "# fig = pyplot.figure()\n",
    "# ax = Axes3D(fig)\n",
    "\n",
    "\n",
    "# x_blue = [4,4,5,5.5,6,6]\n",
    "# y_blue = [4,6,4.5,5.5,4,5]\n",
    "# z_blue = [16,24,22.5,30.25,24,30]\n",
    "# x_orange = [0,0,0,0.5,1,1,1.5,2,2,5,6,6]\n",
    "# y_orange = [1,3,5.5,4,2,3.5,6,3,4.5,1,0,1]\n",
    "# z_orange = [0,0,0,2,2,3.5,9,6,9,5,0,6]\n",
    "\n",
    "# # x_div = np.array([2,2,2.1,2.3,2.9,3.0,3.5,4.0,4.5,5.0,5.5,6.0,6.1,6.9])\n",
    "# # #x_div = np.arange(0.0, 7, 0.2)\n",
    "# # #y_div = np.array(13.1/x_div)\n",
    "# # y_div = np.array([7,6.5,5.9,5.2,4.5,5.0,3.5,3.0,3.8,2.5,2.1,2.0,2.0,2.0])\n",
    "\n",
    "# # def f(x, y):\n",
    "# #     return x*y\n",
    "\n",
    "# # X, Y = np.meshgrid(x_div, y_div)\n",
    "# # Z = f(X, Y)\n",
    "\n",
    "\n",
    "# # ax.plot_wireframe(X, Y, Z, rstride=1, cstride=1, color=\"gray\", alpha = 0.4)\n",
    "# ax.set_xlabel('x')\n",
    "# ax.set_ylabel('y')\n",
    "# ax.set_zlabel('z = x*y')\n",
    "# ax.set_ylim(0, 10)\n",
    "# ax.set_zlim(0, 30)\n",
    "\n",
    "# ax.scatter(x_blue, y_blue, z_blue, color=\"blue\")\n",
    "# ax.scatter(x_orange, y_orange, z_orange, color=\"orange\")\n",
    "\n",
    "# pyplot.show()"
   ]
  },
  {
   "cell_type": "raw",
   "metadata": {},
   "source": [
    "As you can see, using a non-linear function to separate the dots can also be expressed as a linear function in high-dimensional space.\n",
    "\n",
    "The latter method of transforming the data into another dimension that has a clear dividing margin is otherwise known as the kernel trick."
   ]
  },
  {
   "cell_type": "raw",
   "metadata": {},
   "source": []
  },
  {
   "cell_type": "markdown",
   "metadata": {},
   "source": [
    "b) Practical. [15 points] Build a linear support vector classifier in Python for the MNIST classification task. Use various kernels to build a better non-linear classifier."
   ]
  },
  {
   "cell_type": "markdown",
   "metadata": {},
   "source": [
    "**Scaling and Train, test split**"
   ]
  },
  {
   "cell_type": "code",
   "execution_count": 5,
   "metadata": {},
   "outputs": [
    {
     "name": "stderr",
     "output_type": "stream",
     "text": [
      "/opt/anaconda3/lib/python3.7/site-packages/sklearn/utils/validation.py:595: DataConversionWarning: Data with input dtype uint8 was converted to float64 by MinMaxScaler.\n",
      "  warnings.warn(msg, DataConversionWarning)\n"
     ]
    }
   ],
   "source": [
    "from sklearn.preprocessing import MinMaxScaler\n",
    "from sklearn.model_selection import cross_val_score\n",
    "from sklearn.model_selection import GridSearchCV\n",
    "from sklearn.svm import SVC\n",
    "\n",
    "# we keep 30% random examples for test\n",
    "X_train, X_test, y_train, y_test = train_test_split(X, y, test_size=0.3, random_state=101)\n",
    "\n",
    "# we scale the data in the range [-1,1]\n",
    "scaling = MinMaxScaler(feature_range=(-1, 1)).fit(X_train)\n",
    "X_train = scaling.transform(X_train)\n",
    "X_test = scaling.transform(X_test)"
   ]
  },
  {
   "cell_type": "markdown",
   "metadata": {},
   "source": [
    "**Trying out smaller subsets (because grid search takes days) to see if the code works**"
   ]
  },
  {
   "cell_type": "code",
   "execution_count": 18,
   "metadata": {},
   "outputs": [
    {
     "name": "stdout",
     "output_type": "stream",
     "text": [
      "(1797, 64) (1797,)\n"
     ]
    }
   ],
   "source": [
    "# from sklearn.datasets import load_digits\n",
    "# digits = load_digits()\n",
    "# X,y = digits.data, digits.target\n",
    "# print(X.shape, y.shape)\n",
    "# X_train, X_test, y_train, y_test = train_test_split(X,y, test_size=0.2, random_state=42)"
   ]
  },
  {
   "cell_type": "code",
   "execution_count": 6,
   "metadata": {},
   "outputs": [],
   "source": [
    "#using only first 10k to speed up this very slow process.\n",
    "X_train = X_train[:10000,:]\n",
    "X_test = X_test[:10000,:]\n",
    "y_train = y_train[:10000]\n",
    "y_test  = y_test[:10000]"
   ]
  },
  {
   "cell_type": "markdown",
   "metadata": {},
   "source": [
    "**Grid search for optimal model**"
   ]
  },
  {
   "cell_type": "code",
   "execution_count": 9,
   "metadata": {},
   "outputs": [
    {
     "name": "stdout",
     "output_type": "stream",
     "text": [
      "Cross-validation accuracy score: 0.939, test accuracy score: 0.948\n"
     ]
    }
   ],
   "source": [
    "svm = SVC()\n",
    "cv_performance = cross_val_score(svm, X_train, y_train,cv=10)\n",
    "test_performance = svm.fit(X_train, y_train).score(X_test,y_test)\n",
    "print ('Cross-validation accuracy score: %0.3f,'' test accuracy score: %0.3f'% (np.mean(cv_performance),test_performance))"
   ]
  },
  {
   "cell_type": "code",
   "execution_count": 10,
   "metadata": {},
   "outputs": [
    {
     "name": "stdout",
     "output_type": "stream",
     "text": [
      "Best parameter: {'C': 10.0, 'gamma': 0.01, 'kernel': 'rbf'}\n",
      "Cross-validation accuracy score: 0.966, test accuracy score: 0.973\n"
     ]
    }
   ],
   "source": [
    "learning_algo = SVC(kernel='linear', random_state=101)\n",
    "search_space = [{'kernel': ['rbf'],'C':np.logspace(-3, 3, 7),'gamma': np.logspace(-3, 2, 6)}]\n",
    "                #[{'kernel': ['linear'],'C': np.logspace(-3, 3, 7)},\n",
    "               #{'kernel': ['rbf'],'C':np.logspace(-3, 3, 7),'gamma': np.logspace(-3, 2, 6)},\n",
    "              #  {'kernel': ['poly'],'C':np.logspace(-3, 3, 7),'degree': np.int_([1,2,3,4,5]), 'gamma': np.logspace(-3, 2, 6)},\n",
    "              #  {'kernel': ['sigmoid'], 'C':np.logspace(-3, 3, 7)}]\n",
    "\n",
    "gridsearch = GridSearchCV(learning_algo, param_grid=search_space,refit=True, cv=10, n_jobs=17)\n",
    "gridsearch.fit(X_train,y_train)\n",
    "\n",
    "print ('Best parameter: %s'% str(gridsearch.best_params_))\n",
    "\n",
    "cv_performance = gridsearch.best_score_\n",
    "test_performance = gridsearch.score(X_test, y_test)\n",
    "\n",
    "print ('Cross-validation accuracy score: %0.3f,' ' test accuracy score: %0.3f' % (cv_performance,test_performance))"
   ]
  },
  {
   "cell_type": "markdown",
   "metadata": {},
   "source": [
    "**Trying different kernels using the best parameters on GridSearch**\n",
    "* Linear: 'C': 0.1\n",
    "* RBF/Gaussian: 'C':10.0, 'gamma':0.01 = 0.966; 0.973\n",
    "* Polynomial degree: 'C': 0.001, 'degree': 5, 'gamma': 0.1\n",
    "* Sigmoid Kernel:'C': 10.0"
   ]
  },
  {
   "cell_type": "markdown",
   "metadata": {},
   "source": [
    "## Linear"
   ]
  },
  {
   "cell_type": "code",
   "execution_count": 17,
   "metadata": {},
   "outputs": [],
   "source": [
    "clf = SVC(kernel='linear', C = 0.1)"
   ]
  },
  {
   "cell_type": "code",
   "execution_count": 18,
   "metadata": {},
   "outputs": [
    {
     "data": {
      "text/plain": [
       "SVC(C=0.1, cache_size=200, class_weight=None, coef0=0.0,\n",
       "  decision_function_shape='ovr', degree=3, gamma='auto_deprecated',\n",
       "  kernel='linear', max_iter=-1, probability=False, random_state=None,\n",
       "  shrinking=True, tol=0.001, verbose=False)"
      ]
     },
     "execution_count": 18,
     "metadata": {},
     "output_type": "execute_result"
    }
   ],
   "source": [
    "clf.fit(X_train,y_train)"
   ]
  },
  {
   "cell_type": "code",
   "execution_count": 19,
   "metadata": {},
   "outputs": [],
   "source": [
    "expected = y_train\n",
    "predicted = clf.predict(X_train) #yhat"
   ]
  },
  {
   "cell_type": "code",
   "execution_count": 20,
   "metadata": {},
   "outputs": [
    {
     "name": "stdout",
     "output_type": "stream",
     "text": [
      "accuracy score 0.9242\n"
     ]
    }
   ],
   "source": [
    "print('accuracy score', clf.score(X_test, y_test)) #testing if the model generated from train works at the test set"
   ]
  },
  {
   "cell_type": "code",
   "execution_count": 21,
   "metadata": {},
   "outputs": [
    {
     "name": "stdout",
     "output_type": "stream",
     "text": [
      "Classification report for classifier SVC(C=0.1, cache_size=200, class_weight=None, coef0=0.0,\n",
      "  decision_function_shape='ovr', degree=3, gamma='auto_deprecated',\n",
      "  kernel='linear', max_iter=-1, probability=False, random_state=None,\n",
      "  shrinking=True, tol=0.001, verbose=False):\n",
      "              precision    recall  f1-score   support\n",
      "\n",
      "         0.0       0.99      1.00      1.00       977\n",
      "         1.0       0.99      1.00      0.99      1148\n",
      "         2.0       0.99      0.99      0.99       983\n",
      "         3.0       0.98      0.99      0.98      1057\n",
      "         4.0       0.98      0.99      0.98       935\n",
      "         5.0       0.99      0.98      0.99       961\n",
      "         6.0       1.00      1.00      1.00       933\n",
      "         7.0       0.99      0.98      0.99      1023\n",
      "         8.0       0.99      0.98      0.98      1000\n",
      "         9.0       0.98      0.97      0.98       983\n",
      "\n",
      "   micro avg       0.99      0.99      0.99     10000\n",
      "   macro avg       0.99      0.99      0.99     10000\n",
      "weighted avg       0.99      0.99      0.99     10000\n",
      "\n",
      "\n",
      "Confusion matrix:\n",
      "[[ 977    0    0    0    0    0    0    0    0    0]\n",
      " [   0 1148    0    0    0    0    0    0    0    0]\n",
      " [   0    1  971    2    4    0    1    0    4    0]\n",
      " [   1    0    4 1044    0    4    0    0    4    0]\n",
      " [   0    1    0    0  924    0    0    0    0   10]\n",
      " [   0    2    0    9    0  945    1    0    3    1]\n",
      " [   0    0    1    0    0    1  931    0    0    0]\n",
      " [   1    1    4    1    5    0    0 1003    0    8]\n",
      " [   2    5    4    8    0    2    0    0  978    1]\n",
      " [   1    2    0    2   12    0    0    8    1  957]]\n"
     ]
    }
   ],
   "source": [
    "print(\"Classification report for classifier %s:\\n%s\\n\"\n",
    "  % (clf, metrics.classification_report(expected, predicted)))\n",
    "print(\"Confusion matrix:\\n%s\" % metrics.confusion_matrix(expected, predicted))"
   ]
  },
  {
   "cell_type": "markdown",
   "metadata": {},
   "source": [
    "## Polynomial degree 5"
   ]
  },
  {
   "cell_type": "code",
   "execution_count": 22,
   "metadata": {},
   "outputs": [],
   "source": [
    "clf = SVC(kernel='poly', degree=5, C=0.001, gamma = 0.1)"
   ]
  },
  {
   "cell_type": "code",
   "execution_count": 23,
   "metadata": {},
   "outputs": [
    {
     "data": {
      "text/plain": [
       "SVC(C=0.001, cache_size=200, class_weight=None, coef0=0.0,\n",
       "  decision_function_shape='ovr', degree=5, gamma=0.1, kernel='poly',\n",
       "  max_iter=-1, probability=False, random_state=None, shrinking=True,\n",
       "  tol=0.001, verbose=False)"
      ]
     },
     "execution_count": 23,
     "metadata": {},
     "output_type": "execute_result"
    }
   ],
   "source": [
    "clf.fit(X_train,y_train)"
   ]
  },
  {
   "cell_type": "code",
   "execution_count": 24,
   "metadata": {},
   "outputs": [],
   "source": [
    "expected = y_train\n",
    "predicted = clf.predict(X_train) #yhat"
   ]
  },
  {
   "cell_type": "code",
   "execution_count": 25,
   "metadata": {},
   "outputs": [
    {
     "name": "stdout",
     "output_type": "stream",
     "text": [
      "0.9714\n"
     ]
    }
   ],
   "source": [
    "print(clf.score(X_test, y_test)) "
   ]
  },
  {
   "cell_type": "code",
   "execution_count": 26,
   "metadata": {},
   "outputs": [
    {
     "name": "stdout",
     "output_type": "stream",
     "text": [
      "Classification report for classifier SVC(C=0.001, cache_size=200, class_weight=None, coef0=0.0,\n",
      "  decision_function_shape='ovr', degree=5, gamma=0.1, kernel='poly',\n",
      "  max_iter=-1, probability=False, random_state=None, shrinking=True,\n",
      "  tol=0.001, verbose=False):\n",
      "              precision    recall  f1-score   support\n",
      "\n",
      "         0.0       1.00      1.00      1.00       977\n",
      "         1.0       1.00      1.00      1.00      1148\n",
      "         2.0       1.00      1.00      1.00       983\n",
      "         3.0       1.00      1.00      1.00      1057\n",
      "         4.0       1.00      1.00      1.00       935\n",
      "         5.0       1.00      1.00      1.00       961\n",
      "         6.0       1.00      1.00      1.00       933\n",
      "         7.0       1.00      1.00      1.00      1023\n",
      "         8.0       1.00      1.00      1.00      1000\n",
      "         9.0       1.00      1.00      1.00       983\n",
      "\n",
      "   micro avg       1.00      1.00      1.00     10000\n",
      "   macro avg       1.00      1.00      1.00     10000\n",
      "weighted avg       1.00      1.00      1.00     10000\n",
      "\n",
      "\n",
      "Confusion matrix:\n",
      "[[ 977    0    0    0    0    0    0    0    0    0]\n",
      " [   0 1148    0    0    0    0    0    0    0    0]\n",
      " [   0    0  983    0    0    0    0    0    0    0]\n",
      " [   0    0    0 1057    0    0    0    0    0    0]\n",
      " [   0    0    0    0  935    0    0    0    0    0]\n",
      " [   0    0    0    0    0  961    0    0    0    0]\n",
      " [   0    0    0    0    0    0  933    0    0    0]\n",
      " [   0    0    0    0    0    0    0 1023    0    0]\n",
      " [   0    0    0    0    0    0    0    0 1000    0]\n",
      " [   0    0    0    0    0    0    0    0    0  983]]\n"
     ]
    }
   ],
   "source": [
    "print(\"Classification report for classifier %s:\\n%s\\n\"\n",
    "      % (clf, metrics.classification_report(expected, predicted)))\n",
    "print(\"Confusion matrix:\\n%s\" % metrics.confusion_matrix(expected, predicted))"
   ]
  },
  {
   "cell_type": "markdown",
   "metadata": {},
   "source": [
    "## Gaussian kernel"
   ]
  },
  {
   "cell_type": "code",
   "execution_count": 11,
   "metadata": {},
   "outputs": [],
   "source": [
    "clf = SVC(kernel=\"rbf\", C = 10.0, gamma = 0.01)"
   ]
  },
  {
   "cell_type": "code",
   "execution_count": 12,
   "metadata": {},
   "outputs": [
    {
     "data": {
      "text/plain": [
       "SVC(C=10.0, cache_size=200, class_weight=None, coef0=0.0,\n",
       "  decision_function_shape='ovr', degree=3, gamma=0.01, kernel='rbf',\n",
       "  max_iter=-1, probability=False, random_state=None, shrinking=True,\n",
       "  tol=0.001, verbose=False)"
      ]
     },
     "execution_count": 12,
     "metadata": {},
     "output_type": "execute_result"
    }
   ],
   "source": [
    "clf.fit(X_train,y_train)"
   ]
  },
  {
   "cell_type": "code",
   "execution_count": 40,
   "metadata": {},
   "outputs": [],
   "source": [
    "expected = y_train\n",
    "predicted = clf.predict(X_train) #yhat"
   ]
  },
  {
   "cell_type": "code",
   "execution_count": 41,
   "metadata": {},
   "outputs": [
    {
     "name": "stdout",
     "output_type": "stream",
     "text": [
      "accuracy score 0.2038\n"
     ]
    }
   ],
   "source": [
    "print('accuracy score', clf.score(X_test, y_test)) #testing if the model generated from train works at the test set"
   ]
  },
  {
   "cell_type": "code",
   "execution_count": 42,
   "metadata": {},
   "outputs": [
    {
     "name": "stdout",
     "output_type": "stream",
     "text": [
      "Classification report for classifier SVC(C=1.0, cache_size=200, class_weight=None, coef0=0.0,\n",
      "  decision_function_shape='ovr', degree=3, gamma=0.1, kernel='rbf',\n",
      "  max_iter=-1, probability=False, random_state=None, shrinking=True,\n",
      "  tol=0.001, verbose=False):\n",
      "              precision    recall  f1-score   support\n",
      "\n",
      "         0.0       1.00      1.00      1.00       977\n",
      "         1.0       1.00      1.00      1.00      1148\n",
      "         2.0       1.00      1.00      1.00       983\n",
      "         3.0       1.00      1.00      1.00      1057\n",
      "         4.0       1.00      1.00      1.00       935\n",
      "         5.0       1.00      1.00      1.00       961\n",
      "         6.0       1.00      1.00      1.00       933\n",
      "         7.0       1.00      1.00      1.00      1023\n",
      "         8.0       1.00      1.00      1.00      1000\n",
      "         9.0       1.00      1.00      1.00       983\n",
      "\n",
      "   micro avg       1.00      1.00      1.00     10000\n",
      "   macro avg       1.00      1.00      1.00     10000\n",
      "weighted avg       1.00      1.00      1.00     10000\n",
      "\n",
      "\n",
      "Confusion matrix:\n",
      "[[ 977    0    0    0    0    0    0    0    0    0]\n",
      " [   0 1148    0    0    0    0    0    0    0    0]\n",
      " [   0    0  983    0    0    0    0    0    0    0]\n",
      " [   0    0    0 1057    0    0    0    0    0    0]\n",
      " [   0    0    0    0  935    0    0    0    0    0]\n",
      " [   0    0    0    0    0  961    0    0    0    0]\n",
      " [   0    0    0    0    0    0  933    0    0    0]\n",
      " [   0    0    0    0    0    0    0 1023    0    0]\n",
      " [   0    0    0    0    0    0    0    0 1000    0]\n",
      " [   0    0    0    0    0    0    0    0    0  983]]\n"
     ]
    }
   ],
   "source": [
    "print(\"Classification report for classifier %s:\\n%s\\n\"\n",
    "  % (clf, metrics.classification_report(expected, predicted)))\n",
    "print(\"Confusion matrix:\\n%s\" % metrics.confusion_matrix(expected, predicted))"
   ]
  },
  {
   "cell_type": "markdown",
   "metadata": {},
   "source": [
    "## Sigmoid"
   ]
  },
  {
   "cell_type": "code",
   "execution_count": 32,
   "metadata": {},
   "outputs": [],
   "source": [
    "clf = SVC(kernel=\"sigmoid\", C = 10.0)"
   ]
  },
  {
   "cell_type": "code",
   "execution_count": 33,
   "metadata": {},
   "outputs": [
    {
     "data": {
      "text/plain": [
       "SVC(C=10.0, cache_size=200, class_weight=None, coef0=0.0,\n",
       "  decision_function_shape='ovr', degree=3, gamma='auto_deprecated',\n",
       "  kernel='sigmoid', max_iter=-1, probability=False, random_state=None,\n",
       "  shrinking=True, tol=0.001, verbose=False)"
      ]
     },
     "execution_count": 33,
     "metadata": {},
     "output_type": "execute_result"
    }
   ],
   "source": [
    "clf.fit(X_train,y_train)"
   ]
  },
  {
   "cell_type": "code",
   "execution_count": 34,
   "metadata": {},
   "outputs": [],
   "source": [
    "expected = y_train\n",
    "predicted = clf.predict(X_train) #yhat"
   ]
  },
  {
   "cell_type": "code",
   "execution_count": 35,
   "metadata": {},
   "outputs": [
    {
     "name": "stdout",
     "output_type": "stream",
     "text": [
      "accuracy score 0.8837\n"
     ]
    }
   ],
   "source": [
    "print('accuracy score', clf.score(X_test, y_test)) #testing if the model generated from train works at the test set"
   ]
  },
  {
   "cell_type": "code",
   "execution_count": 36,
   "metadata": {},
   "outputs": [
    {
     "name": "stdout",
     "output_type": "stream",
     "text": [
      "Classification report for classifier SVC(C=10.0, cache_size=200, class_weight=None, coef0=0.0,\n",
      "  decision_function_shape='ovr', degree=3, gamma='auto_deprecated',\n",
      "  kernel='sigmoid', max_iter=-1, probability=False, random_state=None,\n",
      "  shrinking=True, tol=0.001, verbose=False):\n",
      "              precision    recall  f1-score   support\n",
      "\n",
      "         0.0       0.96      0.97      0.97       977\n",
      "         1.0       0.92      0.98      0.95      1148\n",
      "         2.0       0.89      0.86      0.88       983\n",
      "         3.0       0.86      0.86      0.86      1057\n",
      "         4.0       0.90      0.92      0.91       935\n",
      "         5.0       0.84      0.83      0.83       961\n",
      "         6.0       0.94      0.95      0.94       933\n",
      "         7.0       0.93      0.91      0.92      1023\n",
      "         8.0       0.88      0.84      0.86      1000\n",
      "         9.0       0.88      0.85      0.87       983\n",
      "\n",
      "   micro avg       0.90      0.90      0.90     10000\n",
      "   macro avg       0.90      0.90      0.90     10000\n",
      "weighted avg       0.90      0.90      0.90     10000\n",
      "\n",
      "\n",
      "Confusion matrix:\n",
      "[[ 952    0    1    5    2    9    4    1    2    1]\n",
      " [   0 1130    2    4    0    4    0    2    6    0]\n",
      " [   9   10  849   22   19    6   26    4   35    3]\n",
      " [   5    6   29  914    0   66    5   10   17    5]\n",
      " [   2    4    8    2  857    1    7    3    1   50]\n",
      " [   6   21    7   64   10  801   14    2   30    6]\n",
      " [   5    3   17    1    5   13  882    0    7    0]\n",
      " [   3    8   15    6   17    2    0  928    3   41]\n",
      " [   8   38   18   33    6   44    5    3  838    7]\n",
      " [   6   10    5   14   39   12    0   50   11  836]]\n"
     ]
    }
   ],
   "source": [
    "print(\"Classification report for classifier %s:\\n%s\\n\"\n",
    "  % (clf, metrics.classification_report(expected, predicted)))\n",
    "print(\"Confusion matrix:\\n%s\" % metrics.confusion_matrix(expected, predicted))"
   ]
  },
  {
   "cell_type": "code",
   "execution_count": null,
   "metadata": {},
   "outputs": [],
   "source": []
  },
  {
   "cell_type": "code",
   "execution_count": null,
   "metadata": {},
   "outputs": [],
   "source": []
  },
  {
   "cell_type": "markdown",
   "metadata": {},
   "source": [
    "# Neural Networks. [50 points]\n",
    "\n",
    "a) Theory. [15 points] By applying the chain law of derivatives to the objective function of a neural network, derive the back propagation algorithm."
   ]
  },
  {
   "cell_type": "raw",
   "metadata": {},
   "source": [
    "Let's start by saying that the ultimate goal of a neural network is to make predictions that are close to the actual values. This means that we want to have a function that can minimize our prediction errors or log-loss:"
   ]
  },
  {
   "cell_type": "markdown",
   "metadata": {},
   "source": [
    "$$ L(y,\\hat{y})= -\\sum_{i=0}^{j}y_ilog(\\hat{y_i}) $$\n",
    "\n",
    "where: <br>\n",
    "$j$ is the number of classes (i.e, for MNIST = 10) <br>\n",
    "$y$ is the actual output <br>\n",
    "$\\hat{y}$ is the predicted output"
   ]
  },
  {
   "cell_type": "markdown",
   "metadata": {},
   "source": [
    "Consider a single-output case like below.  Recall that our objective is to minimize the cost C.  \n",
    "\n",
    "The arrows suggest that there are three main steps needed to arrive at C, which involve:\n",
    "* a vector of weights $w_n$\n",
    "* an non-linear activation function $\\sigma (z)$, where $z = w_0x_0 +... +w_nx_n + b$ \n",
    "* the cost, which compares the predicted output $\\sigma (z) = \\hat{y}$ and the actual $y$"
   ]
  },
  {
   "cell_type": "markdown",
   "metadata": {},
   "source": [
    "<img src= \"onelayerplus.png\" width=\"400\">"
   ]
  },
  {
   "cell_type": "raw",
   "metadata": {},
   "source": [
    "We want to be able to find a set of weights that can minimize the cost function."
   ]
  },
  {
   "cell_type": "markdown",
   "metadata": {},
   "source": [
    "But from the diagram above, we see that small changes in $w_n$ can lead to a chain reaction, as it affects the output in $z$, and subsequently the output in $\\hat{y}$. \n",
    "\n",
    "Hence, if we would like to know C changes with respect to each $w_n$, we must look at all the paths that lead to C, and sum all the effects to that path.  This can be done via the **chain rule** of derivatives:\n",
    "\n",
    "\n",
    "$$\\frac{\\partial C}{\\partial w_n} = \\sum_{i=1}^{n}\\frac{\\partial C}{\\partial \\hat{y}}\\frac{\\partial \\hat{y}}{\\partial z}\\frac{\\partial z}{\\partial w_n}$$\n"
   ]
  },
  {
   "cell_type": "markdown",
   "metadata": {},
   "source": [
    "Using the definitions earlier, we can dissect each of the three components of the chain rule:\n",
    "\n",
    "$$\\frac{\\partial C}{\\partial \\hat{y}} = \\frac{\\partial L(y,\\hat{y})}{\\partial \\hat{y}} = - y \\frac{\\partial L}{\\partial \\hat{y}} log(\\hat{y}) = \\frac{-y}{\\hat y}$$\n",
    "\n",
    "$$\\frac{\\partial \\hat{y}}{\\partial z} = \\frac{\\partial \\sigma (z)}{\\partial z}  = \\sigma (z) (1-\\sigma (z)) = \\hat{y} (1-\\hat{y})$$\n",
    "\n",
    "$$\\frac{\\partial z}{\\partial w_n} = \\frac{\\partial w_0x_0 +... +w_nx_n + b}{\\partial w_n} = w_n$$\n",
    "\n",
    "Combining all three, we have:\n",
    "\n",
    "$$\\frac{-y}{\\hat y} * \\hat{y} (1-\\hat{y}) * w_n  = (\\hat{y}-y)w_n$$\n",
    "\n",
    "Vectorizing the above to include m samples:\n",
    "\n",
    "$$\\frac{\\partial C}{\\partial w_n} = \\frac{1}{m}(\\hat{y}-y)^TX_n$$\n"
   ]
  },
  {
   "cell_type": "raw",
   "metadata": {},
   "source": [
    "The process is we first feed it forward, then we back propagate."
   ]
  },
  {
   "cell_type": "markdown",
   "metadata": {},
   "source": [
    "**Feed forward, left to right:**  We first initialize by giving arbitrary values to $w_i$, then we pass them on to an activation function $\\sigma (z)$, which then computes for a predicted value for $\\hat{y}$, which is then imputed to the log-loss function $L(y,\\hat{y})$ in order to compute for the cost.\n",
    "\n",
    "**Back propagate, right to left:** Once we have measured the value of the cost/error, we distribute (or 'propagate') this error back into the network and adjust the arbitrary weights.  Then we \"train the model\" by iteraterating repeatedly through steps 1 and 2 again, going forward and backward and continually adjusting the gradients until we descend to the minimum value of C."
   ]
  },
  {
   "cell_type": "markdown",
   "metadata": {},
   "source": [
    "<hr />\n",
    "b) Coding. [20 points] Implement from scratch, as a Python class, a feedforward neural network with 1 hidden layer of 100 hidden units merely using basic linear algebra computations in Numpy. Based on your derivation of back-propagation, or otherwise, implement a train method based on stochastic or batch gradient descent. Test your implementation on the MNIST classification task."
   ]
  },
  {
   "cell_type": "code",
   "execution_count": 125,
   "metadata": {},
   "outputs": [
    {
     "name": "stdout",
     "output_type": "stream",
     "text": [
      "Epoch 0 cost:  11.153300871727827\n",
      "Epoch 100 cost:  0.714391523465018\n",
      "Epoch 200 cost:  0.5388176577925046\n",
      "Epoch 300 cost:  0.4601152520673233\n",
      "Epoch 400 cost:  0.41230586518541945\n",
      "Epoch 500 cost:  0.37899525133364265\n",
      "Epoch 600 cost:  0.35386006253739316\n",
      "Epoch 700 cost:  0.3338703711798501\n",
      "Epoch 800 cost:  0.3173772634820708\n",
      "Epoch 900 cost:  0.30339102050980293\n",
      "Epoch 1000 cost:  0.2912730496944363\n",
      "Epoch 1100 cost:  0.2805907449320115\n",
      "Epoch 1200 cost:  0.27104045488252876\n",
      "Epoch 1300 cost:  0.2624050958380685\n",
      "Epoch 1400 cost:  0.25452772654042805\n",
      "Epoch 1500 cost:  0.24729254005501597\n",
      "Epoch 1600 cost:  0.24061044805486276\n",
      "Epoch 1700 cost:  0.23440930046863157\n"
     ]
    },
    {
     "ename": "KeyboardInterrupt",
     "evalue": "",
     "output_type": "error",
     "traceback": [
      "\u001b[0;31m---------------------------------------------------------------------------\u001b[0m",
      "\u001b[0;31mKeyboardInterrupt\u001b[0m                         Traceback (most recent call last)",
      "\u001b[0;32m<ipython-input-125-6f6a216004ed>\u001b[0m in \u001b[0;36m<module>\u001b[0;34m()\u001b[0m\n\u001b[0;32m----> 1\u001b[0;31m \u001b[0;32mclass\u001b[0m \u001b[0mNeuralNet\u001b[0m\u001b[0;34m(\u001b[0m\u001b[0;34m)\u001b[0m\u001b[0;34m:\u001b[0m\u001b[0;34m\u001b[0m\u001b[0m\n\u001b[0m\u001b[1;32m      2\u001b[0m     \u001b[0;32mdef\u001b[0m \u001b[0m__init__\u001b[0m\u001b[0;34m(\u001b[0m\u001b[0mself\u001b[0m\u001b[0;34m)\u001b[0m\u001b[0;34m:\u001b[0m\u001b[0;34m\u001b[0m\u001b[0m\n\u001b[1;32m      3\u001b[0m         \u001b[0mrandom\u001b[0m\u001b[0;34m.\u001b[0m\u001b[0mseed\u001b[0m\u001b[0;34m(\u001b[0m\u001b[0;36m41\u001b[0m\u001b[0;34m)\u001b[0m\u001b[0;34m\u001b[0m\u001b[0m\n\u001b[1;32m      4\u001b[0m \u001b[0;34m\u001b[0m\u001b[0m\n\u001b[1;32m      5\u001b[0m         \u001b[0mdigits\u001b[0m \u001b[0;34m=\u001b[0m \u001b[0;36m10\u001b[0m\u001b[0;34m\u001b[0m\u001b[0m\n",
      "\u001b[0;32m<ipython-input-125-6f6a216004ed>\u001b[0m in \u001b[0;36mNeuralNet\u001b[0;34m()\u001b[0m\n\u001b[1;32m     54\u001b[0m         \u001b[0;32mfor\u001b[0m \u001b[0mi\u001b[0m \u001b[0;32min\u001b[0m \u001b[0mrange\u001b[0m\u001b[0;34m(\u001b[0m\u001b[0;36m2000\u001b[0m\u001b[0;34m)\u001b[0m\u001b[0;34m:\u001b[0m\u001b[0;34m\u001b[0m\u001b[0m\n\u001b[1;32m     55\u001b[0m \u001b[0;34m\u001b[0m\u001b[0m\n\u001b[0;32m---> 56\u001b[0;31m             \u001b[0mZ1\u001b[0m \u001b[0;34m=\u001b[0m \u001b[0mnp\u001b[0m\u001b[0;34m.\u001b[0m\u001b[0mmatmul\u001b[0m\u001b[0;34m(\u001b[0m\u001b[0mW1\u001b[0m\u001b[0;34m,\u001b[0m\u001b[0mX\u001b[0m\u001b[0;34m)\u001b[0m \u001b[0;34m+\u001b[0m \u001b[0mb1\u001b[0m \u001b[0;31m#z=w0x0+...+wnxn+b = 100x60,000\u001b[0m\u001b[0;34m\u001b[0m\u001b[0m\n\u001b[0m\u001b[1;32m     57\u001b[0m             \u001b[0mA1\u001b[0m \u001b[0;34m=\u001b[0m \u001b[0msigmoid\u001b[0m\u001b[0;34m(\u001b[0m\u001b[0mZ1\u001b[0m\u001b[0;34m)\u001b[0m \u001b[0;31m#define non-linear fxn as sigmoid = 100x60000\u001b[0m\u001b[0;34m\u001b[0m\u001b[0m\n\u001b[1;32m     58\u001b[0m             \u001b[0mZ2\u001b[0m \u001b[0;34m=\u001b[0m \u001b[0mnp\u001b[0m\u001b[0;34m.\u001b[0m\u001b[0mmatmul\u001b[0m\u001b[0;34m(\u001b[0m\u001b[0mW2\u001b[0m\u001b[0;34m,\u001b[0m\u001b[0mA1\u001b[0m\u001b[0;34m)\u001b[0m \u001b[0;34m+\u001b[0m \u001b[0mb2\u001b[0m \u001b[0;31m#z=w0x0+...+wnxn+b = 10x60000\u001b[0m\u001b[0;34m\u001b[0m\u001b[0m\n",
      "\u001b[0;31mKeyboardInterrupt\u001b[0m: "
     ]
    }
   ],
   "source": [
    "class NeuralNet():\n",
    "    def __init__(self):\n",
    "        random.seed(41)\n",
    "        \n",
    "        digits = 10\n",
    "        X = mnist.data\n",
    "        y = mnist.target\n",
    "        \n",
    "        X = X / 255  #to standardize\n",
    "        \n",
    "        examples = y.shape[0]\n",
    "\n",
    "        y = y.reshape(1, examples)  #transform from [,70000] to [1,70000]\n",
    "\n",
    "        Y_new = np.eye(digits)[y.astype('int32')] #diagonal matrix [10x10][1x70000]= [70,000x10]\n",
    "        Y_new = Y_new.T.reshape(digits, examples) #[10x70,000]\n",
    "        \n",
    "        #need to use the Y_new matrix \n",
    "        m = 50000\n",
    "        m_test = X.shape[0] - m\n",
    "\n",
    "        X_train, X_test = X[:m].T, X[m:].T\n",
    "        Y_train, Y_test = Y_new[:,:m], Y_new[:,m:]\n",
    "\n",
    "        shuffle_index = np.random.permutation(m)\n",
    "        X_train, Y_train = X_train[:, shuffle_index], Y_train[:, shuffle_index]\n",
    "        \n",
    "    #L(y,ŷ) = −∑ yi * log(yi^)\n",
    "    def compute_multiclass_loss(Y, Y_hat):\n",
    "        L_sum = np.sum(np.multiply(Y, np.log(Y_hat)))\n",
    "        m = Y.shape[1]\n",
    "        L = -(1/m) * L_sum\n",
    "        return L\n",
    "\n",
    "    #define a nonlinear function for z (using sigmoid)\n",
    "    def sigmoid(z):\n",
    "        s = 1 / (1 + np.exp(-z))\n",
    "        return s \n",
    "\n",
    "    \n",
    "    if __name__ == \"__main__\":\n",
    "        n_x = X_train.shape[0]\n",
    "        n_h = 100\n",
    "        learning_rate = 1 #alpha\n",
    "\n",
    "        W1 = np.random.randn(n_h, n_x) #initial layer weights. 100x784\n",
    "        b1 = np.zeros((n_h, 1)) #assume bias is zero (100x1)\n",
    "        W2 = np.random.randn(digits, n_h)  #hidden layer weights. 10x100\n",
    "        b2 = np.zeros((digits, 1)) #assume bias is zero (10x1)\n",
    "\n",
    "        X = X_train\n",
    "        Y = Y_train\n",
    "\n",
    "        for i in range(1000):\n",
    "\n",
    "            Z1 = np.matmul(W1,X) + b1 #z=w0x0+...+wnxn+b = 100x60,000\n",
    "            A1 = sigmoid(Z1) #define non-linear fxn as sigmoid = 100x60000\n",
    "            Z2 = np.matmul(W2,A1) + b2 #z=w0x0+...+wnxn+b = 10x60000\n",
    "            A2 = np.exp(Z2) / np.sum(np.exp(Z2), axis=0) #= 10x60000\n",
    "\n",
    "            cost = compute_multiclass_loss(Y, A2)\n",
    "\n",
    "            dZ2 = A2-Y # y minus y hat\n",
    "            dW2 = (1./m) * np.matmul(dZ2, A1.T) #average cost multiplied by sigmoid\n",
    "            db2 = (1./m) * np.sum(dZ2, axis=1, keepdims=True)\n",
    "\n",
    "            dA1 = np.matmul(W2.T, dZ2) #∂L(y,ŷ)/∂y\n",
    "            dZ1 = dA1 * sigmoid(Z1) * (1 - sigmoid(Z1)) #∂L(y,ŷ)/∂y * σ(z)(1−σ(z)\n",
    "            dW1 = (1./m) * np.matmul(dZ1, X.T) #∂L(y,ŷ)/∂y * σ(z)(1−σ(z) * Xi (vectorized/averaged)\n",
    "            db1 = (1./m) * np.sum(dZ1, axis=1, keepdims=True)\n",
    "\n",
    "            W2 = W2 - learning_rate * dW2\n",
    "            b2 = b2 - learning_rate * db2 #zero\n",
    "            W1 = W1 - learning_rate * dW1\n",
    "            b1 = b1 - learning_rate * db1 #zero\n",
    "\n",
    "            if (i % 50 == 0):\n",
    "                print(\"Epoch\", i, \"cost: \", cost)\n",
    "\n",
    "        print(\"Final cost:\", cost)"
   ]
  },
  {
   "cell_type": "code",
   "execution_count": 1,
   "metadata": {},
   "outputs": [
    {
     "ename": "NameError",
     "evalue": "name 'np' is not defined",
     "output_type": "error",
     "traceback": [
      "\u001b[0;31m---------------------------------------------------------------------------\u001b[0m",
      "\u001b[0;31mNameError\u001b[0m                                 Traceback (most recent call last)",
      "\u001b[0;32m<ipython-input-1-4ada15995bea>\u001b[0m in \u001b[0;36m<module>\u001b[0;34m()\u001b[0m\n\u001b[1;32m      1\u001b[0m \u001b[0;31m#check against test set\u001b[0m\u001b[0;34m\u001b[0m\u001b[0;34m\u001b[0m\u001b[0m\n\u001b[0;32m----> 2\u001b[0;31m \u001b[0mZ1\u001b[0m \u001b[0;34m=\u001b[0m \u001b[0mnp\u001b[0m\u001b[0;34m.\u001b[0m\u001b[0mmatmul\u001b[0m\u001b[0;34m(\u001b[0m\u001b[0mW1\u001b[0m\u001b[0;34m,\u001b[0m \u001b[0mX_test\u001b[0m\u001b[0;34m)\u001b[0m \u001b[0;34m+\u001b[0m \u001b[0mb1\u001b[0m\u001b[0;34m\u001b[0m\u001b[0m\n\u001b[0m\u001b[1;32m      3\u001b[0m \u001b[0mA1\u001b[0m \u001b[0;34m=\u001b[0m \u001b[0msigmoid\u001b[0m\u001b[0;34m(\u001b[0m\u001b[0mZ1\u001b[0m\u001b[0;34m)\u001b[0m\u001b[0;34m\u001b[0m\u001b[0m\n\u001b[1;32m      4\u001b[0m \u001b[0mZ2\u001b[0m \u001b[0;34m=\u001b[0m \u001b[0mnp\u001b[0m\u001b[0;34m.\u001b[0m\u001b[0mmatmul\u001b[0m\u001b[0;34m(\u001b[0m\u001b[0mW2\u001b[0m\u001b[0;34m,\u001b[0m \u001b[0mA1\u001b[0m\u001b[0;34m)\u001b[0m \u001b[0;34m+\u001b[0m \u001b[0mb2\u001b[0m\u001b[0;34m\u001b[0m\u001b[0m\n\u001b[1;32m      5\u001b[0m \u001b[0mA2\u001b[0m \u001b[0;34m=\u001b[0m \u001b[0mnp\u001b[0m\u001b[0;34m.\u001b[0m\u001b[0mexp\u001b[0m\u001b[0;34m(\u001b[0m\u001b[0mZ2\u001b[0m\u001b[0;34m)\u001b[0m \u001b[0;34m/\u001b[0m \u001b[0mnp\u001b[0m\u001b[0;34m.\u001b[0m\u001b[0msum\u001b[0m\u001b[0;34m(\u001b[0m\u001b[0mnp\u001b[0m\u001b[0;34m.\u001b[0m\u001b[0mexp\u001b[0m\u001b[0;34m(\u001b[0m\u001b[0mZ2\u001b[0m\u001b[0;34m)\u001b[0m\u001b[0;34m,\u001b[0m \u001b[0maxis\u001b[0m\u001b[0;34m=\u001b[0m\u001b[0;36m0\u001b[0m\u001b[0;34m)\u001b[0m\u001b[0;34m\u001b[0m\u001b[0m\n",
      "\u001b[0;31mNameError\u001b[0m: name 'np' is not defined"
     ]
    }
   ],
   "source": [
    "#check against test set\n",
    "Z1 = np.matmul(W1, X_test) + b1\n",
    "A1 = sigmoid(Z1)\n",
    "Z2 = np.matmul(W2, A1) + b2\n",
    "A2 = np.exp(Z2) / np.sum(np.exp(Z2), axis=0)\n",
    "\n",
    "predictions = np.argmax(A2, axis=0)\n",
    "labels = np.argmax(Y_test, axis=0)\n",
    "\n",
    "print(metrics.confusion_matrix(predictions, labels))\n",
    "print(metrics.classification_report(predictions, labels))"
   ]
  },
  {
   "cell_type": "markdown",
   "metadata": {},
   "source": [
    "<hr />\n",
    "c) Practical. [15 points] Use TensorFlow (potentially using a frontend such as tflearn or keras) to implement a 2 layer neural network with 1200 and 1200 hidden units. Use RELU activation function instead of sigmoids, as well as add regularisation methods such as dropout to produce a model which has a test error of below 2%. 10 points will be given for building a working network and 5 point for achieving the benchmark. "
   ]
  },
  {
   "cell_type": "code",
   "execution_count": null,
   "metadata": {},
   "outputs": [],
   "source": [
    "import matplotlib.pyplot as plt\n",
    "import tensorflow as tf\n",
    "from tensorflow.python import keras\n",
    "import numpy as np\n",
    "import math\n",
    "from sklearn.model_selection import train_test_split\n",
    "\n",
    "from tensorflow.python.keras.models import Sequential\n",
    "from tensorflow.python.keras.layers import InputLayer, Input\n",
    "from tensorflow.python.keras.layers import Reshape, MaxPooling2D\n",
    "from tensorflow.python.keras.layers import Conv2D, Dense, Flatten, Dropout"
   ]
  },
  {
   "cell_type": "code",
   "execution_count": null,
   "metadata": {},
   "outputs": [],
   "source": [
    "X = mnist.data\n",
    "y = mnist.target"
   ]
  },
  {
   "cell_type": "code",
   "execution_count": null,
   "metadata": {},
   "outputs": [],
   "source": [
    "X = X.reshape((70000,28,28,1))"
   ]
  },
  {
   "cell_type": "code",
   "execution_count": null,
   "metadata": {},
   "outputs": [],
   "source": [
    "X = X/255"
   ]
  },
  {
   "cell_type": "code",
   "execution_count": null,
   "metadata": {},
   "outputs": [],
   "source": [
    "X_train, X_test, y_train, y_test = train_test_split(X, y, test_size=0.2, random_state=42)"
   ]
  },
  {
   "cell_type": "code",
   "execution_count": null,
   "metadata": {},
   "outputs": [],
   "source": [
    "#just checkin\n",
    "plt.imshow(X[250,:,:,0]"
   ]
  },
  {
   "cell_type": "markdown",
   "metadata": {},
   "source": [
    "# Data Science Challenge. [5 points] \n",
    "\n",
    "This is a problem to challenge you. Any reasonable attempt will grant you full points. For this problem (and only for this problem) you are allowed to work in groups of up to 3 students handing in the same solution. The idea is that you use this last problem as a competition between your peers or peer groups in the course. It is a continuation of problem 3.c. Using a high-level frontend for tensorflow such as tflearn or keras, try to improve your classifier by means of deeper networks and/or convolution layers which are readily available as plug&play building blocks. Depending on interest and time we can use the more challenging CIFAR10 data set for this last part as opposed to the simpler to predict MNIST dataset. In the latter case, it would also make sense to use GPUs."
   ]
  },
  {
   "cell_type": "code",
   "execution_count": null,
   "metadata": {},
   "outputs": [],
   "source": [
    "X = mnist.data\n",
    "y = mnist.target"
   ]
  },
  {
   "cell_type": "code",
   "execution_count": null,
   "metadata": {},
   "outputs": [],
   "source": [
    "X = X.reshape((70000,28,28,1))"
   ]
  },
  {
   "cell_type": "code",
   "execution_count": null,
   "metadata": {},
   "outputs": [],
   "source": [
    "X = X/255"
   ]
  },
  {
   "cell_type": "code",
   "execution_count": null,
   "metadata": {},
   "outputs": [],
   "source": [
    "model = Sequential()\n",
    "\n",
    "model.add(Conv2D(filters=32, kernel_size=3, kernel_initializer='he_normal', activation = 'relu', input_shape=(28,28,1)))\n",
    "model.add(MaxPooling2D())\n",
    "model.add(Dropout(0.20))\n",
    "model.add(Flatten())\n",
    "model.add(Dense(128,activation = 'relu'))\n",
    "model.add(Dense(10, activation='softmax'))\n",
    "model.compile(loss='sparse_categorical_crossentropy',\n",
    "              optimizer='adamax',\n",
    "              metrics=['accuracy'])"
   ]
  },
  {
   "cell_type": "code",
   "execution_count": null,
   "metadata": {},
   "outputs": [],
   "source": [
    "train_model = model.fit(X_train, y_train,\n",
    "                  batch_size=128,\n",
    "                  epochs=10,\n",
    "                  verbose=1,\n",
    "                  validation_data=(X_test, y_test))"
   ]
  },
  {
   "cell_type": "code",
   "execution_count": null,
   "metadata": {},
   "outputs": [],
   "source": [
    "model.summary()"
   ]
  },
  {
   "cell_type": "code",
   "execution_count": null,
   "metadata": {},
   "outputs": [],
   "source": []
  },
  {
   "cell_type": "markdown",
   "metadata": {},
   "source": [
    "# References"
   ]
  },
  {
   "cell_type": "markdown",
   "metadata": {},
   "source": [
    "PCA <br>\n",
    "https://github.com/mGalarnyk/Python_Tutorials/blob/master/Sklearn/PCA/PCA_Image_Reconstruction_and_such.ipynb\n",
    "https://towardsdatascience.com/pca-using-python-scikit-learn-e653f8989e60"
   ]
  },
  {
   "cell_type": "markdown",
   "metadata": {},
   "source": [
    "Support Vector Machines\n",
    "\n",
    "https://www.youtube.com/watch?v=vMmG_7JcfIc <br>\n",
    "https://www.youtube.com/watch?v=ikt7Qze0czE <br>\n",
    "https://www.youtube.com/watch?v=8xbnLHn4jjQ <br>\n",
    "http://www.robots.ox.ac.uk/~az/lectures/ml/lect3.pdf <br>\n",
    "https://stackabuse.com/implementing-svm-and-kernel-svm-with-pythons-scikit-learn/"
   ]
  },
  {
   "cell_type": "markdown",
   "metadata": {},
   "source": [
    "Backpropagation <br>\n",
    "https://www.youtube.com/watch?v=XIpyEvLv93A <br>\n",
    "https://towardsdatascience.com/applied-deep-learning-part-1-artificial-neural-networks-d7834f67a4f6 <br>\n",
    "https://www.youtube.com/watch?v=tIeHLnjs5U8"
   ]
  },
  {
   "cell_type": "markdown",
   "metadata": {},
   "source": [
    "Neural Nets <br>\n",
    "https://towardsdatascience.com/image-classification-in-10-minutes-with-mnist-dataset-54c35b77a38d <br>\n",
    "https://www.kaggle.com/piotrtrochim/tensorflow-mnist-classifier<br>\n",
    "https://towardsdatascience.com/how-to-build-your-own-neural-network-from-scratch-in-python-68998a08e4f6<br>\n",
    "https://jonathanweisberg.org/post/A%20Neural%20Network%20from%20Scratch%20-%20Part%201/ <br>\n",
    "https://towardsdatascience.com/exploring-activation-functions-for-neural-networks-73498da59b02"
   ]
  },
  {
   "cell_type": "code",
   "execution_count": null,
   "metadata": {},
   "outputs": [],
   "source": []
  }
 ],
 "metadata": {
  "kernelspec": {
   "display_name": "Python 3",
   "language": "python",
   "name": "python3"
  },
  "language_info": {
   "codemirror_mode": {
    "name": "ipython",
    "version": 3
   },
   "file_extension": ".py",
   "mimetype": "text/x-python",
   "name": "python",
   "nbconvert_exporter": "python",
   "pygments_lexer": "ipython3",
   "version": "3.7.0"
  },
  "toc-autonumbering": true,
  "toc-showcode": false,
  "toc-showmarkdowntxt": true,
  "toc-showtags": true
 },
 "nbformat": 4,
 "nbformat_minor": 2
}
