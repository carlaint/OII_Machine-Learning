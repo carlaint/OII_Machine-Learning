{
 "cells": [
  {
   "cell_type": "code",
   "execution_count": 1,
   "metadata": {},
   "outputs": [],
   "source": [
    "import numpy as np\n",
    "np.random.seed(1)"
   ]
  },
  {
   "cell_type": "code",
   "execution_count": 2,
   "metadata": {},
   "outputs": [],
   "source": [
    "X = np.array([[0,1,0],\n",
    "              [1,0,0],\n",
    "              [1,1,1],\n",
    "              [0,1,1]])\n",
    "\n",
    "y = np.array([[0,1,1,0]]).T"
   ]
  },
  {
   "cell_type": "code",
   "execution_count": 3,
   "metadata": {},
   "outputs": [],
   "source": [
    "def sigmoid(x):\n",
    "    return 1/(1+np.exp(-x))"
   ]
  },
  {
   "cell_type": "code",
   "execution_count": 4,
   "metadata": {},
   "outputs": [],
   "source": [
    "# 3 by 1 matrix\n",
    "W = 2*np.random.random((3,1)) - 1\n",
    "b = 0"
   ]
  },
  {
   "cell_type": "code",
   "execution_count": 6,
   "metadata": {},
   "outputs": [],
   "source": [
    "#linear step\n",
    "z = X.dot(W) + b"
   ]
  },
  {
   "cell_type": "code",
   "execution_count": 8,
   "metadata": {},
   "outputs": [],
   "source": [
    "#nonlinear step\n",
    "A = sigmoid(z)"
   ]
  },
  {
   "cell_type": "code",
   "execution_count": 10,
   "metadata": {},
   "outputs": [
    {
     "name": "stdout",
     "output_type": "stream",
     "text": [
      "[[0.60841366]\n",
      " [0.45860596]\n",
      " [0.3262757 ]\n",
      " [0.36375058]]\n"
     ]
    }
   ],
   "source": [
    "print(A)"
   ]
  },
  {
   "cell_type": "code",
   "execution_count": 11,
   "metadata": {},
   "outputs": [],
   "source": [
    "#define the loss function\n",
    "def bce_loss(y,y_hat):\n",
    "    N = y.shape[0]\n",
    "    loss = -1/N * np.sum((y*np.log(y_hat) + (1 - y)*np.log(1-y_hat)))\n",
    "    return loss "
   ]
  },
  {
   "cell_type": "code",
   "execution_count": 12,
   "metadata": {},
   "outputs": [
    {
     "data": {
      "text/plain": [
       "0.8223225820877986"
      ]
     },
     "execution_count": 12,
     "metadata": {},
     "output_type": "execute_result"
    }
   ],
   "source": [
    "bce_loss(y,A)"
   ]
  },
  {
   "cell_type": "code",
   "execution_count": 13,
   "metadata": {},
   "outputs": [],
   "source": [
    "# Randomly initialize the weights\n",
    "W = 2*np.random.random((3,1)) - 1\n",
    "b = 0\n",
    "\n",
    "# Set the learning rate alpha to 1\n",
    "alpha = 1\n",
    "\n",
    "# We will train for 20 epochs\n",
    "epochs = 20\n",
    "\n",
    "# Count the number of training examples we have (4)\n",
    "N = y.shape[0]"
   ]
  },
  {
   "cell_type": "code",
   "execution_count": 14,
   "metadata": {},
   "outputs": [
    {
     "name": "stdout",
     "output_type": "stream",
     "text": [
      "Epoch: 0 Loss: 0.8907627075279007\n",
      "Epoch: 1 Loss: 0.6927760160745733\n",
      "Epoch: 2 Loss: 0.5898451770659854\n",
      "Epoch: 3 Loss: 0.5280885451830415\n",
      "Epoch: 4 Loss: 0.4820073214455976\n",
      "Epoch: 5 Loss: 0.44368423755499686\n",
      "Epoch: 6 Loss: 0.41060585370411384\n",
      "Epoch: 7 Loss: 0.38165051378604337\n",
      "Epoch: 8 Loss: 0.3561084424371502\n",
      "Epoch: 9 Loss: 0.3334450250738084\n",
      "Epoch: 10 Loss: 0.31323197922576923\n",
      "Epoch: 11 Loss: 0.29511860660977185\n",
      "Epoch: 12 Loss: 0.2788147565057779\n",
      "Epoch: 13 Loss: 0.26407867672883883\n",
      "Epoch: 14 Loss: 0.2507077275683651\n",
      "Epoch: 15 Loss: 0.23853110552406673\n",
      "Epoch: 16 Loss: 0.2274040783772286\n",
      "Epoch: 17 Loss: 0.21720338508576542\n",
      "Epoch: 18 Loss: 0.20782354315100746\n",
      "Epoch: 19 Loss: 0.19917386778993895\n"
     ]
    }
   ],
   "source": [
    "losses = []\n",
    "for i in range(epochs):\n",
    "    # Do the linear step\n",
    "    z = X.dot(W) + b\n",
    "    \n",
    "    # Do the non linear step\n",
    "    A = sigmoid(z)\n",
    "    \n",
    "    # Calculate the loss\n",
    "    loss = bce_loss(y,A)\n",
    "    \n",
    "    # Keep track of the loss\n",
    "    print('Epoch:',i,'Loss:',loss)\n",
    "    losses.append(loss)\n",
    "    \n",
    "    # Back propagate\n",
    "    dz = (A - y)\n",
    "    \n",
    "    # ... calcualte loss derivative with respect to weights\n",
    "    dW = 1/N * np.dot(X.T,dz)\n",
    "    \n",
    "    # ... calculate loss derivative with respect to bias\n",
    "    db = 1/N * np.sum(dz,axis=0,keepdims=True)    \n",
    "    \n",
    "    # Update parameters\n",
    "    W -= alpha * dW\n",
    "    b -= alpha * db"
   ]
  },
  {
   "cell_type": "code",
   "execution_count": 16,
   "metadata": {},
   "outputs": [
    {
     "data": {
      "image/png": "[encoded data removed]",
      "text/plain": [
       "<matplotlib.figure.Figure at 0x11a240358>"
      ]
     },
     "metadata": {},
     "output_type": "display_data"
    }
   ],
   "source": [
    "import matplotlib.pyplot as plt\n",
    "%matplotlib inline\n",
    "plt.plot(losses)\n",
    "plt.xlabel('epoch')\n",
    "plt.ylabel('loss')\n",
    "plt.show()\n",
    "#fig.savefig('loss.jpg')"
   ]
  },
  {
   "cell_type": "markdown",
   "metadata": {},
   "source": [
    "# Keras"
   ]
  },
  {
   "cell_type": "code",
   "execution_count": 145,
   "metadata": {},
   "outputs": [],
   "source": [
    "import matplotlib.pyplot as plt\n",
    "import tensorflow as tf\n",
    "from tensorflow.python import keras\n",
    "import numpy as np\n",
    "import math\n",
    "from sklearn.model_selection import train_test_split\n",
    "\n",
    "from tensorflow.python.keras.models import Sequential\n",
    "from tensorflow.python.keras.layers import InputLayer, Input\n",
    "from tensorflow.python.keras.layers import Reshape, MaxPooling2D\n",
    "from tensorflow.python.keras.layers import Conv2D, Dense, Flatten, Dropout\n",
    "from tensorflow.python.keras.layers.core import Lambda\n",
    "from tensorflow.python.keras.optimizers import RMSprop\n",
    "from keras import backend as K"
   ]
  },
  {
   "cell_type": "code",
   "execution_count": 91,
   "metadata": {},
   "outputs": [],
   "source": [
    "from sklearn import datasets,svm, pipeline, metrics\n",
    "from sklearn.model_selection import train_test_split\n",
    "from sklearn.preprocessing import StandardScaler\n",
    "from sklearn.decomposition import PCA\n",
    "import numpy as np\n",
    "import matplotlib.pyplot as plt\n",
    "from sklearn.kernel_approximation import (RBFSampler, Nystroem)\n",
    "mnist_data = datasets.fetch_mldata('MNIST original', data_home = 'datasets/')"
   ]
  },
  {
   "cell_type": "code",
   "execution_count": 92,
   "metadata": {},
   "outputs": [
    {
     "name": "stdout",
     "output_type": "stream",
     "text": [
      "(70000, 784)\n",
      "(70000,)\n"
     ]
    }
   ],
   "source": [
    "print(mnist_data.data.shape)\n",
    "print(mnist_data.target.shape)"
   ]
  },
  {
   "cell_type": "code",
   "execution_count": 157,
   "metadata": {},
   "outputs": [],
   "source": [
    "X = mnist_data.data\n",
    "y = mnist_data.target"
   ]
  },
  {
   "cell_type": "code",
   "execution_count": 158,
   "metadata": {},
   "outputs": [],
   "source": [
    "X = X.reshape((70000,28,28,1))"
   ]
  },
  {
   "cell_type": "code",
   "execution_count": 159,
   "metadata": {},
   "outputs": [],
   "source": [
    "X = X/255"
   ]
  },
  {
   "cell_type": "code",
   "execution_count": 160,
   "metadata": {},
   "outputs": [],
   "source": [
    "X_train, X_test, Y_train, Y_test = train_test_split(X, y, test_size=0.2, random_state=42)"
   ]
  },
  {
   "cell_type": "code",
   "execution_count": 161,
   "metadata": {},
   "outputs": [
    {
     "data": {
      "image/png": "[encoded data removed]",
      "text/plain": [
       "<matplotlib.figure.Figure at 0x130dc1978>"
      ]
     },
     "metadata": {},
     "output_type": "display_data"
    }
   ],
   "source": [
    "plt.imshow(X[250,:,:,0]);"
   ]
  },
  {
   "cell_type": "code",
   "execution_count": 162,
   "metadata": {},
   "outputs": [
    {
     "data": {
      "text/plain": [
       "(56000, 28, 28, 1)"
      ]
     },
     "execution_count": 162,
     "metadata": {},
     "output_type": "execute_result"
    }
   ],
   "source": [
    "X_train.shape"
   ]
  },
  {
   "cell_type": "code",
   "execution_count": 139,
   "metadata": {},
   "outputs": [],
   "source": [
    "model = Sequential()\n",
    "\n",
    "#hidden layers\n",
    "model.add(Dense(1200, activation='relu', input_shape=(784,)))\n",
    "model.add(Dense(1200, activation='relu', input_shape=(784,)))\n",
    "#output layer\n",
    "model.add(Dense(10, activation='softmax'))"
   ]
  },
  {
   "cell_type": "code",
   "execution_count": 140,
   "metadata": {},
   "outputs": [
    {
     "name": "stdout",
     "output_type": "stream",
     "text": [
      "_________________________________________________________________\n",
      "Layer (type)                 Output Shape              Param #   \n",
      "=================================================================\n",
      "dense_44 (Dense)             (None, 1200)              942000    \n",
      "_________________________________________________________________\n",
      "dense_45 (Dense)             (None, 1200)              1441200   \n",
      "_________________________________________________________________\n",
      "dense_46 (Dense)             (None, 10)                12010     \n",
      "=================================================================\n",
      "Total params: 2,395,210\n",
      "Trainable params: 2,395,210\n",
      "Non-trainable params: 0\n",
      "_________________________________________________________________\n"
     ]
    }
   ],
   "source": [
    "model.summary()"
   ]
  },
  {
   "cell_type": "code",
   "execution_count": 142,
   "metadata": {},
   "outputs": [
    {
     "name": "stdout",
     "output_type": "stream",
     "text": [
      "dense_44 (None, 784) ==> (None, 1200)\n",
      "dense_45 (None, 1200) ==> (None, 1200)\n",
      "dense_46 (None, 1200) ==> (None, 10)\n",
      "_________________________________________________________________\n",
      "Layer (type)                 Output Shape              Param #   \n",
      "=================================================================\n",
      "dense_44 (Dense)             (None, 1200)              942000    \n",
      "_________________________________________________________________\n",
      "dense_45 (Dense)             (None, 1200)              1441200   \n",
      "_________________________________________________________________\n",
      "dense_46 (Dense)             (None, 10)                12010     \n",
      "=================================================================\n",
      "Total params: 2,395,210\n",
      "Trainable params: 2,395,210\n",
      "Non-trainable params: 0\n",
      "_________________________________________________________________\n",
      "None\n"
     ]
    }
   ],
   "source": [
    "for l in model.layers:\n",
    "    print(l.name, l.input_shape,'==>',l.output_shape)\n",
    "print\n",
    "print(model.summary())"
   ]
  },
  {
   "cell_type": "code",
   "execution_count": 152,
   "metadata": {},
   "outputs": [
    {
     "name": "stdout",
     "output_type": "stream",
     "text": [
      "Train size: 60000\n",
      "Test size: 10000\n"
     ]
    }
   ],
   "source": [
    "from keras.datasets import mnist\n",
    "(x_train, y_train), (x_test, y_test) = mnist.load_data()\n",
    "\n",
    "num_classes = 10\n",
    "x_train = x_train.reshape(60000, 784)\n",
    "x_test = x_test.reshape(10000, 784)\n",
    "x_train = x_train.astype('float32')\n",
    "x_test = x_test.astype('float32')\n",
    "x_train /= 255\n",
    "x_test /= 255\n",
    "y_train = keras.utils.to_categorical(y_train, num_classes)\n",
    "y_test = keras.utils.to_categorical(y_test, num_classes)\n",
    "\n",
    "\n",
    "print('Train size:', x_train.shape[0])\n",
    "print('Test size:', x_test.shape[0])"
   ]
  },
  {
   "cell_type": "code",
   "execution_count": 154,
   "metadata": {},
   "outputs": [
    {
     "name": "stdout",
     "output_type": "stream",
     "text": [
      "Train on 60000 samples, validate on 10000 samples\n",
      "Epoch 1/5\n",
      "60000/60000 [==============================] - 27s 442us/step - loss: 0.2135 - acc: 0.9344 - val_loss: 0.1055 - val_acc: 0.9677\n",
      "Epoch 2/5\n",
      "60000/60000 [==============================] - 27s 442us/step - loss: 0.0812 - acc: 0.9761 - val_loss: 0.0719 - val_acc: 0.9780\n",
      "Epoch 3/5\n",
      "60000/60000 [==============================] - 27s 455us/step - loss: 0.0561 - acc: 0.9838 - val_loss: 0.0852 - val_acc: 0.9780\n",
      "Epoch 4/5\n",
      "60000/60000 [==============================] - 22s 364us/step - loss: 0.0425 - acc: 0.9878 - val_loss: 0.0880 - val_acc: 0.9805\n",
      "Epoch 5/5\n",
      "60000/60000 [==============================] - 27s 445us/step - loss: 0.0351 - acc: 0.9901 - val_loss: 0.0980 - val_acc: 0.9799\n",
      "Test loss: 0.098\n",
      "Test accuracy: 0.98\n"
     ]
    },
    {
     "data": {
      "text/plain": [
       "<matplotlib.legend.Legend at 0x1373feb00>"
      ]
     },
     "execution_count": 154,
     "metadata": {},
     "output_type": "execute_result"
    },
    {
     "data": {
      "image/png": "[encoded data removed]",
      "text/plain": [
       "<matplotlib.figure.Figure at 0x130d60da0>"
      ]
     },
     "metadata": {},
     "output_type": "display_data"
    }
   ],
   "source": [
    "batch_size = 128\n",
    "epochs = 5\n",
    "\n",
    "model.compile(loss='categorical_crossentropy',\n",
    "              optimizer=RMSprop(),\n",
    "              metrics=['accuracy'])\n",
    "    \n",
    "history = model.fit(x_train, y_train,\n",
    "                    batch_size=batch_size,\n",
    "                    epochs=epochs,\n",
    "                    verbose=1,\n",
    "                    validation_data=(x_test, y_test))\n",
    "\n",
    "score = model.evaluate(x_test, y_test, verbose=100)\n",
    "\n",
    "print\n",
    "print('Test loss:', round(score[0], 3))\n",
    "print('Test accuracy:', round(score[1], 3))\n",
    "plt.plot(history.history['loss'])\n",
    "plt.plot(history.history['val_loss'])\n",
    "plt.title('model loss')\n",
    "plt.ylabel('loss')\n",
    "plt.xlabel('epoch')\n",
    "plt.legend(['train', 'test'], loc='upper left')"
   ]
  },
  {
   "cell_type": "code",
   "execution_count": null,
   "metadata": {},
   "outputs": [],
   "source": []
  },
  {
   "cell_type": "code",
   "execution_count": null,
   "metadata": {},
   "outputs": [],
   "source": []
  },
  {
   "cell_type": "code",
   "execution_count": 163,
   "metadata": {},
   "outputs": [],
   "source": [
    "# Model\n",
    "# Logistic Regression Best Model Ever\n",
    "model = Sequential()\n",
    "#model.add(Flatten(input_shape=(28, 28, 1)))\n",
    "#model.add(Dense(10, activation='softmax'))\n",
    "\n",
    "model.add(Conv2D(filters=32, kernel_size=3, kernel_initializer='he_normal', activation = 'relu', input_shape=(28,28,1)))\n",
    "model.add(MaxPooling2D())\n",
    "model.add(Dropout(0.20))\n",
    "\n",
    "model.add(Flatten())\n",
    "\n",
    "model.add(Dense(128,activation = 'relu'))\n",
    "model.add(Dense(10, activation='softmax'))\n",
    "\n",
    "\n",
    "model.compile(loss='sparse_categorical_crossentropy',\n",
    "              optimizer='adamax',\n",
    "              metrics=['accuracy'])"
   ]
  },
  {
   "cell_type": "code",
   "execution_count": 164,
   "metadata": {},
   "outputs": [
    {
     "name": "stdout",
     "output_type": "stream",
     "text": [
      "Train on 56000 samples, validate on 14000 samples\n",
      "Epoch 1/5\n",
      "56000/56000 [==============================] - 33s 596us/step - loss: 0.2113 - acc: 0.9365 - val_loss: 0.0947 - val_acc: 0.9716\n",
      "Epoch 2/5\n",
      "56000/56000 [==============================] - 32s 571us/step - loss: 0.0804 - acc: 0.9761 - val_loss: 0.0648 - val_acc: 0.9801\n",
      "Epoch 3/5\n",
      "56000/56000 [==============================] - 32s 577us/step - loss: 0.0569 - acc: 0.9821 - val_loss: 0.0670 - val_acc: 0.9782\n",
      "Epoch 4/5\n",
      "56000/56000 [==============================] - 34s 602us/step - loss: 0.0439 - acc: 0.9862 - val_loss: 0.0528 - val_acc: 0.9839\n",
      "Epoch 5/5\n",
      "56000/56000 [==============================] - 33s 595us/step - loss: 0.0363 - acc: 0.9884 - val_loss: 0.0503 - val_acc: 0.9837\n"
     ]
    }
   ],
   "source": [
    "train_model = model.fit(X_train, Y_train,\n",
    "                  batch_size=128,\n",
    "                  epochs=5,\n",
    "                  verbose=1,\n",
    "                  validation_data=(X_test, Y_test))"
   ]
  },
  {
   "cell_type": "code",
   "execution_count": 165,
   "metadata": {},
   "outputs": [
    {
     "name": "stdout",
     "output_type": "stream",
     "text": [
      "conv2d_13 (None, 28, 28, 1) ==> (None, 26, 26, 32)\n",
      "max_pooling2d_10 (None, 26, 26, 32) ==> (None, 13, 13, 32)\n",
      "dropout_5 (None, 13, 13, 32) ==> (None, 13, 13, 32)\n",
      "flatten_9 (None, 13, 13, 32) ==> (None, 5408)\n",
      "dense_49 (None, 5408) ==> (None, 128)\n",
      "dense_50 (None, 128) ==> (None, 10)\n",
      "_________________________________________________________________\n",
      "Layer (type)                 Output Shape              Param #   \n",
      "=================================================================\n",
      "conv2d_13 (Conv2D)           (None, 26, 26, 32)        320       \n",
      "_________________________________________________________________\n",
      "max_pooling2d_10 (MaxPooling (None, 13, 13, 32)        0         \n",
      "_________________________________________________________________\n",
      "dropout_5 (Dropout)          (None, 13, 13, 32)        0         \n",
      "_________________________________________________________________\n",
      "flatten_9 (Flatten)          (None, 5408)              0         \n",
      "_________________________________________________________________\n",
      "dense_49 (Dense)             (None, 128)               692352    \n",
      "_________________________________________________________________\n",
      "dense_50 (Dense)             (None, 10)                1290      \n",
      "=================================================================\n",
      "Total params: 693,962\n",
      "Trainable params: 693,962\n",
      "Non-trainable params: 0\n",
      "_________________________________________________________________\n",
      "None\n"
     ]
    }
   ],
   "source": [
    "for l in model.layers:\n",
    "    print(l.name, l.input_shape,'==>',l.output_shape)\n",
    "print\n",
    "print(model.summary())\n"
   ]
  },
  {
   "cell_type": "code",
   "execution_count": 167,
   "metadata": {},
   "outputs": [
    {
     "name": "stdout",
     "output_type": "stream",
     "text": [
      "Test loss: 0.05\n",
      "Test accuracy: 0.984\n"
     ]
    },
    {
     "data": {
      "text/plain": [
       "<matplotlib.legend.Legend at 0x134415b00>"
      ]
     },
     "execution_count": 167,
     "metadata": {},
     "output_type": "execute_result"
    },
    {
     "data": {
      "image/png": "[encoded data removed]",
      "text/plain": [
       "<matplotlib.figure.Figure at 0x15549e208>"
      ]
     },
     "metadata": {},
     "output_type": "display_data"
    }
   ],
   "source": [
    "score = model.evaluate(X_test, Y_test, verbose=100)\n",
    "print\n",
    "print('Test loss:', round(score[0], 3))\n",
    "print('Test accuracy:', round(score[1], 3))\n",
    "plt.plot(history.history['loss'])\n",
    "plt.plot(history.history['val_loss'])\n",
    "plt.title('model loss')\n",
    "plt.ylabel('loss')\n",
    "plt.xlabel('epoch')\n",
    "plt.legend(['train', 'test'], loc='upper left')"
   ]
  },
  {
   "cell_type": "code",
   "execution_count": null,
   "metadata": {},
   "outputs": [],
   "source": []
  }
 ],
 "metadata": {
  "kernelspec": {
   "display_name": "Python 3",
   "language": "python",
   "name": "python3"
  },
  "language_info": {
   "codemirror_mode": {
    "name": "ipython",
    "version": 3
   },
   "file_extension": ".py",
   "mimetype": "text/x-python",
   "name": "python",
   "nbconvert_exporter": "python",
   "pygments_lexer": "ipython3",
   "version": "3.6.4"
  }
 },
 "nbformat": 4,
 "nbformat_minor": 2
}
